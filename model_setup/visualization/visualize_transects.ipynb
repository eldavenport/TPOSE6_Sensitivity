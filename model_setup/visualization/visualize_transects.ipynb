{
 "cells": [
  {
   "cell_type": "code",
   "execution_count": null,
   "metadata": {},
   "outputs": [],
   "source": [
    "from dask.distributed import LocalCluster, Client\n",
    "cluster = LocalCluster()\n",
    "client = Client(cluster)\n",
    "client"
   ]
  },
  {
   "cell_type": "code",
   "execution_count": null,
   "metadata": {},
   "outputs": [],
   "source": [
    "## Read in ITER 0 Diagnostics \n",
    "import matplotlib.pyplot as plt\n",
    "import cmocean.cm as cmo\n",
    "import xarray as xr\n",
    "from xmitgcm import open_mdsdataset\n",
    "import numpy as np\n",
    "import warnings\n",
    "# warnings.filterwarnings(\"ignore\")\n",
    "\n",
    "data_dir = '/data/SO3/edavenport/tpose6/sep2012/run_iter0/'\n",
    "grid_dir = '/data/SO6/TPOSE_diags/tpose6/grid_6/'\n",
    "\n",
    "num_diags = 122 #\n",
    "itPerFile = 72 # 1 day\n",
    "intervals = range(itPerFile,itPerFile*num_diags+1,itPerFile)\n",
    "\n",
    "prefix = ['diag_state']\n",
    "tpose_ds = open_mdsdataset(data_dir=data_dir,grid_dir=grid_dir,iters=intervals,prefix=prefix,ref_date='2012-09-01',delta_t=1200)\n"
   ]
  },
  {
   "cell_type": "code",
   "execution_count": null,
   "metadata": {},
   "outputs": [],
   "source": [
    "lats = tpose_ds.YC.values\n",
    "lons = tpose_ds.XC.values\n",
    "tpose_ds['XC'] = tpose_ds.XC.astype(float)\n",
    "tpose_ds['YC'] = tpose_ds.YC.astype(float)\n",
    "tpose_ds['Z'] = tpose_ds.Z.astype(float)\n",
    "tpose_ds['XG'] = tpose_ds.XG.astype(float)\n",
    "tpose_ds['YG'] = tpose_ds.YG.astype(float)\n",
    "\n",
    "fig, ax = plt.subplots(3, 2, figsize=(16, 12))\n",
    "tpose_ds.UVEL.sel(XG=[190.0],method='nearest').sel(YC=slice(-5.0,5.0),Z=slice(0,-275)).mean(dim='time').plot(ax=ax[0,0], vmin=-1.5, vmax=1.5, cmap=cmo.balance)\n",
    "tpose_ds.UVEL.sel(XG=[220.0],method='nearest').sel(YC=slice(-5.0,5.0),Z=slice(0,-275)).mean(dim='time').plot(ax=ax[1,0], vmin=-1.5, vmax=1.5, cmap=cmo.balance)\n",
    "tpose_ds.UVEL.sel(XG=[250.0],method='nearest').sel(YC=slice(-5.0,5.0),Z=slice(0,-275)).mean(dim='time').plot(ax=ax[2,0], vmin=-1.5, vmax=1.5, cmap=cmo.balance)\n",
    "\n",
    "tpose_ds.VVEL.sel(XC=[190.0],method='nearest').sel(YG=slice(-5.0,5.0),Z=slice(0,-275)).mean(dim='time').plot(ax=ax[0,1], vmin=-0.25, vmax=0.25, cmap=cmo.balance)\n",
    "tpose_ds.VVEL.sel(XC=[220.0],method='nearest').sel(YG=slice(-5.0,5.0),Z=slice(0,-275)).mean(dim='time').plot(ax=ax[1,1], vmin=-0.25, vmax=0.25, cmap=cmo.balance)\n",
    "tpose_ds.VVEL.sel(XC=[250.0],method='nearest').sel(YG=slice(-5.0,5.0),Z=slice(0,-275)).mean(dim='time').plot(ax=ax[2,1], vmin=-0.25, vmax=0.25, cmap=cmo.balance)\n",
    "plt.tight_layout()\n",
    "plt.savefig('mean_meridional_transects_VEL.png')"
   ]
  },
  {
   "cell_type": "code",
   "execution_count": null,
   "metadata": {},
   "outputs": [],
   "source": [
    "fig, ax = plt.subplots(3, 2, figsize=(16, 12))\n",
    "tpose_ds.UVEL.sel(YC=[0.0],method='nearest').sel(XG=slice(180.0,255.0),Z=slice(0,-275)).mean(dim='time').plot(ax=ax[0,0], vmin=-1.5, vmax=1.5, cmap=cmo.balance)\n",
    "tpose_ds.UVEL.sel(YC=[0.0],method='nearest').sel(XG=slice(180.0,255.0),Z=slice(0,-275)).mean(dim='time').plot(ax=ax[1,0], vmin=-1.5, vmax=1.5, cmap=cmo.balance)\n",
    "tpose_ds.UVEL.sel(YC=[0.0],method='nearest').sel(XG=slice(180.0,255.0),Z=slice(0,-275)).mean(dim='time').plot(ax=ax[2,0], vmin=-1.5, vmax=1.5, cmap=cmo.balance)\n",
    "\n",
    "tpose_ds.VVEL.sel(YG=[0.0],method='nearest').sel(XC=slice(180.0,255.0),Z=slice(0,-275)).mean(dim='time').plot(ax=ax[0,1], vmin=-0.35, vmax=0.35, cmap=cmo.balance)\n",
    "tpose_ds.VVEL.sel(YG=[0.0],method='nearest').sel(XC=slice(180.0,255.0),Z=slice(0,-275)).mean(dim='time').plot(ax=ax[1,1], vmin=-0.35, vmax=0.35, cmap=cmo.balance)\n",
    "tpose_ds.VVEL.sel(YG=[0.0],method='nearest').sel(XC=slice(180.0,255.0),Z=slice(0,-275)).mean(dim='time').plot(ax=ax[2,1], vmin=-0.35, vmax=0.35, cmap=cmo.balance)\n",
    "plt.tight_layout()\n",
    "plt.savefig('mean_zonal_transects_VEL.png')"
   ]
  },
  {
   "cell_type": "code",
   "execution_count": null,
   "metadata": {},
   "outputs": [],
   "source": [
    "fig, ax = plt.subplots(3, 2, figsize=(16, 12))\n",
    "tpose_ds.UVEL.sel(XG=[190.0],method='nearest').sel(YC=slice(-5.0,5.0),Z=slice(0,-275)).max(dim='time').plot(ax=ax[0,0], vmin=-1.5, vmax=1.5, cmap=cmo.balance)\n",
    "tpose_ds.UVEL.sel(XG=[220.0],method='nearest').sel(YC=slice(-5.0,5.0),Z=slice(0,-275)).max(dim='time').plot(ax=ax[1,0], vmin=-1.5, vmax=1.5, cmap=cmo.balance)\n",
    "tpose_ds.UVEL.sel(XG=[250.0],method='nearest').sel(YC=slice(-5.0,5.0),Z=slice(0,-275)).max(dim='time').plot(ax=ax[2,0], vmin=-1.5, vmax=1.5, cmap=cmo.balance)\n",
    "\n",
    "tpose_ds.VVEL.sel(XC=[190.0],method='nearest').sel(YG=slice(-5.0,5.0),Z=slice(0,-275)).max(dim='time').plot(ax=ax[0,1], vmin=-1.25, vmax=1.25, cmap=cmo.balance)\n",
    "tpose_ds.VVEL.sel(XC=[220.0],method='nearest').sel(YG=slice(-5.0,5.0),Z=slice(0,-275)).max(dim='time').plot(ax=ax[1,1], vmin=-1.25, vmax=1.25, cmap=cmo.balance)\n",
    "tpose_ds.VVEL.sel(XC=[250.0],method='nearest').sel(YG=slice(-5.0,5.0),Z=slice(0,-275)).max(dim='time').plot(ax=ax[2,1], vmin=-1.25, vmax=1.25, cmap=cmo.balance)\n",
    "plt.tight_layout()\n",
    "plt.savefig('max_meridional_transects_VEL.png')"
   ]
  },
  {
   "cell_type": "code",
   "execution_count": null,
   "metadata": {},
   "outputs": [],
   "source": [
    "fig, ax = plt.subplots(3, 2, figsize=(16, 12))\n",
    "tpose_ds.UVEL.sel(YC=[0.0],method='nearest').sel(XG=slice(180.0,255.0),Z=slice(0,-275)).max(dim='time').plot(ax=ax[0,0], vmin=-1.5, vmax=1.5, cmap=cmo.balance)\n",
    "tpose_ds.UVEL.sel(YC=[0.0],method='nearest').sel(XG=slice(180.0,255.0),Z=slice(0,-275)).max(dim='time').plot(ax=ax[1,0], vmin=-1.5, vmax=1.5, cmap=cmo.balance)\n",
    "tpose_ds.UVEL.sel(YC=[0.0],method='nearest').sel(XG=slice(180.0,255.0),Z=slice(0,-275)).max(dim='time').plot(ax=ax[2,0], vmin=-1.5, vmax=1.5, cmap=cmo.balance)\n",
    "\n",
    "tpose_ds.VVEL.sel(YG=[0.0],method='nearest').sel(XC=slice(180.0,255.0),Z=slice(0,-275)).max(dim='time').plot(ax=ax[0,1], vmin=-1.35, vmax=1.35, cmap=cmo.balance)\n",
    "tpose_ds.VVEL.sel(YG=[0.0],method='nearest').sel(XC=slice(180.0,255.0),Z=slice(0,-275)).max(dim='time').plot(ax=ax[1,1], vmin=-1.35, vmax=1.35, cmap=cmo.balance)\n",
    "tpose_ds.VVEL.sel(YG=[0.0],method='nearest').sel(XC=slice(180.0,255.0),Z=slice(0,-275)).max(dim='time').plot(ax=ax[2,1], vmin=-1.35, vmax=1.35, cmap=cmo.balance)\n",
    "plt.tight_layout()\n",
    "plt.savefig('max_zonal_transects_VEL.png')"
   ]
  },
  {
   "cell_type": "code",
   "execution_count": null,
   "metadata": {},
   "outputs": [],
   "source": [
    "fig, ax = plt.subplots(3, 2, figsize=(16, 12))\n",
    "tpose_ds.UVEL.sel(YC=[0.0],method='nearest').sel(XG=slice(180.0,255.0),Z=slice(0,-275)).min(dim='time').plot(ax=ax[0,0], vmin=-1.5, vmax=1.5, cmap=cmo.balance)\n",
    "tpose_ds.UVEL.sel(YC=[0.0],method='nearest').sel(XG=slice(180.0,255.0),Z=slice(0,-275)).min(dim='time').plot(ax=ax[1,0], vmin=-1.5, vmax=1.5, cmap=cmo.balance)\n",
    "tpose_ds.UVEL.sel(YC=[0.0],method='nearest').sel(XG=slice(180.0,255.0),Z=slice(0,-275)).min(dim='time').plot(ax=ax[2,0], vmin=-1.5, vmax=1.5, cmap=cmo.balance)\n",
    "\n",
    "tpose_ds.VVEL.sel(YG=[0.0],method='nearest').sel(XC=slice(180.0,255.0),Z=slice(0,-275)).min(dim='time').plot(ax=ax[0,1], vmin=-1.35, vmax=1.35, cmap=cmo.balance)\n",
    "tpose_ds.VVEL.sel(YG=[0.0],method='nearest').sel(XC=slice(180.0,255.0),Z=slice(0,-275)).min(dim='time').plot(ax=ax[1,1], vmin=-1.35, vmax=1.35, cmap=cmo.balance)\n",
    "tpose_ds.VVEL.sel(YG=[0.0],method='nearest').sel(XC=slice(180.0,255.0),Z=slice(0,-275)).min(dim='time').plot(ax=ax[2,1], vmin=-1.35, vmax=1.35, cmap=cmo.balance)\n",
    "plt.tight_layout()\n",
    "plt.savefig('min_zonal_transects_VEL.png')"
   ]
  },
  {
   "cell_type": "code",
   "execution_count": null,
   "metadata": {},
   "outputs": [],
   "source": [
    "fig, ax = plt.subplots(3, 2, figsize=(16, 12))\n",
    "tpose_ds.UVEL.sel(XG=[190.0],method='nearest').sel(YC=slice(-5.0,5.0),Z=slice(0,-275)).min(dim='time').plot(ax=ax[0,0], vmin=-1.5, vmax=1.5, cmap=cmo.balance)\n",
    "tpose_ds.UVEL.sel(XG=[220.0],method='nearest').sel(YC=slice(-5.0,5.0),Z=slice(0,-275)).min(dim='time').plot(ax=ax[1,0], vmin=-1.5, vmax=1.5, cmap=cmo.balance)\n",
    "tpose_ds.UVEL.sel(XG=[250.0],method='nearest').sel(YC=slice(-5.0,5.0),Z=slice(0,-275)).min(dim='time').plot(ax=ax[2,0], vmin=-1.5, vmax=1.5, cmap=cmo.balance)\n",
    "\n",
    "tpose_ds.VVEL.sel(XC=[190.0],method='nearest').sel(YG=slice(-5.0,5.0),Z=slice(0,-275)).min(dim='time').plot(ax=ax[0,1], vmin=-1.25, vmax=1.25, cmap=cmo.balance)\n",
    "tpose_ds.VVEL.sel(XC=[220.0],method='nearest').sel(YG=slice(-5.0,5.0),Z=slice(0,-275)).min(dim='time').plot(ax=ax[1,1], vmin=-1.25, vmax=1.25, cmap=cmo.balance)\n",
    "tpose_ds.VVEL.sel(XC=[250.0],method='nearest').sel(YG=slice(-5.0,5.0),Z=slice(0,-275)).min(dim='time').plot(ax=ax[2,1], vmin=-1.25, vmax=1.25, cmap=cmo.balance)\n",
    "plt.tight_layout()\n",
    "plt.savefig('min_meridional_transects_VEL.png')"
   ]
  },
  {
   "cell_type": "code",
   "execution_count": null,
   "metadata": {},
   "outputs": [],
   "source": [
    "box_latmax = 0.75\n",
    "box_latmin = -0.75\n",
    "box_lon = 140.0\n",
    "box_zmin = -80.0\n",
    "box_zmax = -160.0\n",
    "\n",
    "fig, ax = plt.subplots(3, 2, figsize=(16, 12))\n",
    "tpose_ds.UVEL.sel(XG=[190.0],method='nearest').sel(YC=slice(-5.0,5.0),Z=slice(0,-275)).mean(dim='time').plot(ax=ax[0,0], vmin=-1.5, vmax=1.5, cmap=cmo.balance)\n",
    "tpose_ds.UVEL.sel(XG=[220.0],method='nearest').sel(YC=slice(-5.0,5.0),Z=slice(0,-275)).mean(dim='time').plot(ax=ax[1,0], vmin=-1.5, vmax=1.5, cmap=cmo.balance)\n",
    "ax[1,0].axvline(box_latmax, 1-(box_zmax/-275.0), 1-(box_zmin/-275.0), color='m', linestyle='--',linewidth=2.5)\n",
    "ax[1,0].axvline(box_latmin, 1-(box_zmax/-275.0), 1-(box_zmin/-275.0), color='m', linestyle='--',linewidth=2.5)\n",
    "ax[1,0].axhline(box_zmin, 4.25/10.0, 5.75/10, color='m', linestyle='--',linewidth=2.5)\n",
    "ax[1,0].axhline(box_zmax, 4.25/10.0, 5.75/10, color='m', linestyle='--',linewidth=2.5)\n",
    "tpose_ds.UVEL.sel(XG=[250.0],method='nearest').sel(YC=slice(-5.0,5.0),Z=slice(0,-275)).mean(dim='time').plot(ax=ax[2,0], vmin=-1.5, vmax=1.5, cmap=cmo.balance)\n",
    "\n",
    "tpose_ds.VVEL.sel(XC=[190.0],method='nearest').sel(YG=slice(-5.0,5.0),Z=slice(0,-275)).mean(dim='time').plot(ax=ax[0,1], vmin=-0.25, vmax=0.25, cmap=cmo.balance)\n",
    "tpose_ds.VVEL.sel(XC=[220.0],method='nearest').sel(YG=slice(-5.0,5.0),Z=slice(0,-275)).mean(dim='time').plot(ax=ax[1,1], vmin=-0.25, vmax=0.25, cmap=cmo.balance)\n",
    "tpose_ds.VVEL.sel(XC=[250.0],method='nearest').sel(YG=slice(-5.0,5.0),Z=slice(0,-275)).mean(dim='time').plot(ax=ax[2,1], vmin=-0.25, vmax=0.25, cmap=cmo.balance)\n",
    "plt.tight_layout()\n",
    "plt.savefig('mean_meridional_transects_withBox.png')"
   ]
  },
  {
   "cell_type": "code",
   "execution_count": null,
   "metadata": {},
   "outputs": [],
   "source": [
    "fig, ax = plt.subplots(3, 1, figsize=(8, 10))\n",
    "tpose_ds.UVEL.sel(XG=[190.0],method='nearest').sel(YC=slice(-5.0,5.0),Z=slice(0,-275)).max(dim='time').plot(ax=ax[0], vmin=-1.5, vmax=1.5, cmap=cmo.balance)\n",
    "tpose_ds.UVEL.sel(XG=[220.0],method='nearest').sel(YC=slice(-5.0,5.0),Z=slice(0,-275)).max(dim='time').plot(ax=ax[1], vmin=-1.5, vmax=1.5, cmap=cmo.balance)\n",
    "ax[1].axvline(box_latmax, 1-(box_zmax/-275.0), 1-(box_zmin/-275.0), color='m', linestyle='--',linewidth=2.5)\n",
    "ax[1].axvline(box_latmin, 1-(box_zmax/-275.0), 1-(box_zmin/-275.0), color='m', linestyle='--',linewidth=2.5)\n",
    "ax[1].axhline(box_zmin, 4.25/10.0, 5.75/10, color='m', linestyle='--',linewidth=2.5)\n",
    "ax[1].axhline(box_zmax, 4.25/10.0, 5.75/10, color='m', linestyle='--',linewidth=2.5)\n",
    "tpose_ds.UVEL.sel(XG=[250.0],method='nearest').sel(YC=slice(-5.0,5.0),Z=slice(0,-275)).max(dim='time').plot(ax=ax[2], vmin=-1.5, vmax=1.5, cmap=cmo.balance)\n",
    "\n",
    "plt.tight_layout()\n",
    "plt.savefig('max_meridional_transects_VEL_withBox.png')"
   ]
  },
  {
   "cell_type": "code",
   "execution_count": null,
   "metadata": {},
   "outputs": [],
   "source": [
    "fig, ax = plt.subplots(3, 1, figsize=(8, 10))\n",
    "tpose_ds.UVEL.sel(XG=[190.0],method='nearest').sel(YC=slice(-5.0,5.0),Z=slice(0,-275)).min(dim='time').plot(ax=ax[0], vmin=-1.5, vmax=1.5, cmap=cmo.balance)\n",
    "tpose_ds.UVEL.sel(XG=[220.0],method='nearest').sel(YC=slice(-5.0,5.0),Z=slice(0,-275)).min(dim='time').plot(ax=ax[1], vmin=-1.5, vmax=1.5, cmap=cmo.balance)\n",
    "ax[1].axvline(box_latmax, 1-(box_zmax/-275.0), 1-(box_zmin/-275.0), color='m', linestyle='--',linewidth=2.5)\n",
    "ax[1].axvline(box_latmin, 1-(box_zmax/-275.0), 1-(box_zmin/-275.0), color='m', linestyle='--',linewidth=2.5)\n",
    "ax[1].axhline(box_zmin, 4.25/10.0, 5.75/10, color='m', linestyle='--',linewidth=2.5)\n",
    "ax[1].axhline(box_zmax, 4.25/10.0, 5.75/10, color='m', linestyle='--',linewidth=2.5)\n",
    "tpose_ds.UVEL.sel(XG=[250.0],method='nearest').sel(YC=slice(-5.0,5.0),Z=slice(0,-275)).min(dim='time').plot(ax=ax[2], vmin=-1.5, vmax=1.5, cmap=cmo.balance)\n",
    "\n",
    "plt.tight_layout()\n",
    "plt.savefig('min_meridional_transects_VEL_withBox.png')"
   ]
  },
  {
   "cell_type": "code",
   "execution_count": null,
   "metadata": {},
   "outputs": [],
   "source": []
  }
 ],
 "metadata": {
  "kernelspec": {
   "display_name": "mitgcm_analysis",
   "language": "python",
   "name": "python3"
  },
  "language_info": {
   "codemirror_mode": {
    "name": "ipython",
    "version": 3
   },
   "file_extension": ".py",
   "mimetype": "text/x-python",
   "name": "python",
   "nbconvert_exporter": "python",
   "pygments_lexer": "ipython3",
   "version": "3.12.2"
  }
 },
 "nbformat": 4,
 "nbformat_minor": 2
}
